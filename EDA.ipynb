{
  "cells": [
    {
      "cell_type": "markdown",
      "metadata": {
        "id": "view-in-github",
        "colab_type": "text"
      },
      "source": [
        "<a href=\"https://colab.research.google.com/github/atharv-arya/3D-Brain-Tumor-Segmentation/blob/main/EDA.ipynb\" target=\"_parent\"><img src=\"https://colab.research.google.com/assets/colab-badge.svg\" alt=\"Open In Colab\"/></a>"
      ]
    },
    {
      "cell_type": "code",
      "source": [
        "from google.colab import drive\n",
        "drive.mount('/content/drive')"
      ],
      "metadata": {
        "colab": {
          "base_uri": "https://localhost:8080/"
        },
        "id": "hIYXRhG9IFUf",
        "outputId": "4dff41c6-cbda-44de-d603-2de779dca056"
      },
      "execution_count": null,
      "outputs": [
        {
          "output_type": "stream",
          "name": "stdout",
          "text": [
            "Mounted at /content/drive\n"
          ]
        }
      ]
    },
    {
      "cell_type": "code",
      "source": [
        "cd drive/"
      ],
      "metadata": {
        "id": "sMQ63nSQOL22",
        "colab": {
          "base_uri": "https://localhost:8080/"
        },
        "outputId": "0604dcb0-3922-4d39-8a9a-4cd1bd62f482"
      },
      "execution_count": null,
      "outputs": [
        {
          "output_type": "stream",
          "name": "stdout",
          "text": [
            "/content/drive\n"
          ]
        }
      ]
    },
    {
      "cell_type": "code",
      "source": [
        "!ls /content/drive/MyDrive/CSCI566/data/data/\n"
      ],
      "metadata": {
        "id": "9F603DUzOJTR",
        "outputId": "db5133c7-015e-48ae-96ea-d1e2f94f61dd",
        "colab": {
          "base_uri": "https://localhost:8080/"
        }
      },
      "execution_count": null,
      "outputs": [
        {
          "output_type": "stream",
          "name": "stdout",
          "text": [
            "ASNR-MICCAI-BraTS2023-GLI-Challenge-TrainingData\n",
            "ASNR-MICCAI-BraTS2023-GLI-Challenge-ValidationData\n"
          ]
        }
      ]
    },
    {
      "cell_type": "code",
      "execution_count": null,
      "metadata": {
        "id": "_qG5xY5PHvO1"
      },
      "outputs": [],
      "source": [
        "import os\n",
        "import numpy as np\n",
        "import nibabel as nib\n",
        "import matplotlib.pyplot as plt\n",
        "import pandas as pd\n",
        "import seaborn as sns\n",
        "from tqdm import tqdm\n",
        "from glob import glob"
      ]
    },
    {
      "cell_type": "code",
      "execution_count": null,
      "metadata": {
        "id": "alSnH78pHvO4",
        "outputId": "de2599d9-649d-4580-bd58-86bb7d0cacf2",
        "colab": {
          "base_uri": "https://localhost:8080/"
        }
      },
      "outputs": [
        {
          "output_type": "stream",
          "name": "stdout",
          "text": [
            "Total number of subjects: 262\n"
          ]
        }
      ],
      "source": [
        "# Define the root directory\n",
        "root_dir = \"/content/drive/MyDrive/CSCI566/data/data/ASNR-MICCAI-BraTS2023-GLI-Challenge-TrainingData/ASNR-MICCAI-BraTS2023-GLI-Challenge-TrainingData/\"\n",
        "\n",
        "# Get all subject folders\n",
        "subjects = glob(os.path.join(root_dir, \"BraTS-GLI-*\"))\n",
        "\n",
        "print(f\"Total number of subjects: {len(subjects)}\")\n",
        "\n",
        "# Check modalities available\n",
        "modalities = [\"t1\", \"t1ce\", \"t2\", \"flair\"]  # t1, t1ce, t2, flair'"
      ]
    },
    {
      "cell_type": "markdown",
      "metadata": {
        "id": "n7YRSJvCHvO5"
      },
      "source": [
        "## Image Properties Analysis"
      ]
    },
    {
      "cell_type": "code",
      "source": [
        "from glob import glob\n",
        "import os\n",
        "import numpy as np\n",
        "import nibabel as nib\n",
        "from tqdm import tqdm\n",
        "\n",
        "# Correct modality names\n",
        "modalities = [\"t1\", \"t1ce\", \"t2\", \"flair\"]\n",
        "\n",
        "def analyze_scan_properties(subject_paths):\n",
        "    properties = {\n",
        "        'shape': [],\n",
        "        'max_intensity': {mod: [] for mod in modalities},\n",
        "        'min_intensity': {mod: [] for mod in modalities},\n",
        "        'mean_intensity': {mod: [] for mod in modalities},\n",
        "        'std_intensity': {mod: [] for mod in modalities},\n",
        "        'spacing': [],\n",
        "        'subject_id': []\n",
        "    }\n",
        "\n",
        "    for subject in tqdm(subject_paths):\n",
        "        subj_id = os.path.basename(subject)\n",
        "        properties['subject_id'].append(subj_id)\n",
        "\n",
        "        # Load each modality\n",
        "        for mod in modalities:\n",
        "            nii_files = glob(os.path.join(subject, f\"*{mod}.nii\"))  # Look directly inside subject folder\n",
        "            if not nii_files:\n",
        "                print(f\"Warning: No NIfTI file found for modality '{mod}' in {subject}\")\n",
        "                continue  # Skip to next modality\n",
        "\n",
        "            nii_file = nii_files[0]  # First file found\n",
        "            img = nib.load(nii_file)\n",
        "            data = img.get_fdata()\n",
        "\n",
        "            # Store properties\n",
        "            if mod == modalities[0]:  # Only store shape and spacing once per subject\n",
        "                properties['shape'].append(data.shape)\n",
        "                properties['spacing'].append(img.header.get_zooms())\n",
        "\n",
        "            # Store intensity information\n",
        "            properties['max_intensity'][mod].append(np.max(data))\n",
        "            properties['min_intensity'][mod].append(np.min(data))\n",
        "            properties['mean_intensity'][mod].append(np.mean(data))\n",
        "            properties['std_intensity'][mod].append(np.std(data))\n",
        "\n",
        "    return properties\n",
        "\n",
        "properties = analyze_scan_properties(subjects[:10])  # Start with a subset for testing\n"
      ],
      "metadata": {
        "colab": {
          "base_uri": "https://localhost:8080/"
        },
        "id": "YDIfzjl2X-Gm",
        "outputId": "533c26d6-dd71-42f1-a410-eb46bd87d028"
      },
      "execution_count": null,
      "outputs": [
        {
          "output_type": "stream",
          "name": "stderr",
          "text": [
            "100%|██████████| 10/10 [01:19<00:00,  7.99s/it]\n"
          ]
        }
      ]
    },
    {
      "cell_type": "markdown",
      "metadata": {
        "id": "8mpNXBr2HvO8"
      },
      "source": [
        "## Visualizing Scan Properties"
      ]
    },
    {
      "cell_type": "code",
      "execution_count": null,
      "metadata": {
        "id": "heilGHrTHvO8",
        "colab": {
          "base_uri": "https://localhost:8080/"
        },
        "outputId": "022a5527-d38e-4884-ec1e-a309801d3fa0"
      },
      "outputs": [
        {
          "output_type": "stream",
          "name": "stdout",
          "text": [
            "Plots saved in: /content/drive/MyDrive/CSCI566/distribution\n"
          ]
        }
      ],
      "source": [
        "# Define the correct directory in Google Drive\n",
        "distributions_folder = \"/content/drive/MyDrive/CSCI566/distribution\"\n",
        "\n",
        "# Ensure the folder exists\n",
        "os.makedirs(distributions_folder, exist_ok=True)\n",
        "\n",
        "# Plot Intensity Distributions\n",
        "plt.figure(figsize=(15, 10))\n",
        "for i, mod in enumerate(modalities):\n",
        "    plt.subplot(2, 2, i+1)\n",
        "    sns.histplot(properties['mean_intensity'][mod], kde=True)\n",
        "    plt.title(f\"Mean Intensity Distribution - {mod}\")\n",
        "plt.tight_layout()\n",
        "plt.savefig(os.path.join(distributions_folder, \"intensity_distributions.png\"))  # ✅ Fix: Save inside Drive\n",
        "plt.close()\n",
        "\n",
        "# Plot Image Dimensions\n",
        "plt.figure(figsize=(10, 6))\n",
        "shapes = [f\"{s[0]}x{s[1]}x{s[2]}\" for s in properties['shape']]\n",
        "shape_counts = pd.Series(shapes).value_counts()\n",
        "sns.barplot(x=shape_counts.index, y=shape_counts.values)\n",
        "plt.title(\"Distribution of Image Dimensions\")\n",
        "plt.xticks(rotation=45)\n",
        "plt.tight_layout()\n",
        "plt.savefig(os.path.join(distributions_folder, \"dimension_distribution.png\"))  # ✅ Fix: Save inside Drive\n",
        "plt.close()\n",
        "\n",
        "print(f\"Plots saved in: {distributions_folder}\")"
      ]
    },
    {
      "cell_type": "markdown",
      "metadata": {
        "id": "bHW_bsSpHvO8"
      },
      "source": [
        "## Sample Visualization"
      ]
    },
    {
      "cell_type": "code",
      "execution_count": null,
      "metadata": {
        "id": "6-dbzZVVHvO8",
        "colab": {
          "base_uri": "https://localhost:8080/"
        },
        "outputId": "b0d45a27-2e06-40be-d440-d6c6140aae85"
      },
      "outputs": [
        {
          "output_type": "stream",
          "name": "stdout",
          "text": [
            "Saved visualization to: /content/drive/MyDrive/CSCI566/visualizations/BraTS-GLI-00018-000_visualization.png\n",
            "Saved visualization to: /content/drive/MyDrive/CSCI566/visualizations/BraTS-GLI-00545-000_visualization.png\n",
            "Saved visualization to: /content/drive/MyDrive/CSCI566/visualizations/BraTS-GLI-00533-000_visualization.png\n",
            "Saved visualization to: /content/drive/MyDrive/CSCI566/visualizations/BraTS-GLI-00046-000_visualization.png\n",
            "Saved visualization to: /content/drive/MyDrive/CSCI566/visualizations/BraTS-GLI-00078-000_visualization.png\n",
            "Saved visualization to: /content/drive/MyDrive/CSCI566/visualizations/BraTS-GLI-00528-000_visualization.png\n",
            "Saved visualization to: /content/drive/MyDrive/CSCI566/visualizations/BraTS-GLI-00714-000_visualization.png\n",
            "Saved visualization to: /content/drive/MyDrive/CSCI566/visualizations/BraTS-GLI-00663-000_visualization.png\n",
            "Saved visualization to: /content/drive/MyDrive/CSCI566/visualizations/BraTS-GLI-00479-000_visualization.png\n",
            "Saved visualization to: /content/drive/MyDrive/CSCI566/visualizations/BraTS-GLI-00694-000_visualization.png\n"
          ]
        }
      ],
      "source": [
        "import random\n",
        "\n",
        "# Define the correct Google Drive save directory\n",
        "save_dir = \"/content/drive/MyDrive/CSCI566/visualizations\"\n",
        "os.makedirs(save_dir, exist_ok=True)  # Ensure directory exists\n",
        "\n",
        "def visualize_subject(subject_path, save_dir=save_dir):\n",
        "    subject_id = os.path.basename(subject_path)\n",
        "\n",
        "    plt.figure(figsize=(15, 15))\n",
        "    for i, mod in enumerate(modalities):\n",
        "        # ✅ Fix: Search for .nii files directly inside the subject folder\n",
        "        nii_files = glob(os.path.join(subject_path, f\"*{mod}.nii\"))\n",
        "        if not nii_files:\n",
        "            print(f\"Warning: No NIfTI file found for modality '{mod}' in {subject_path}\")\n",
        "            continue  # Skip this modality\n",
        "\n",
        "        nii_file = nii_files[0]  # First matching file\n",
        "        img = nib.load(nii_file)\n",
        "        data = img.get_fdata()\n",
        "\n",
        "        # Get middle slices in axial, sagittal, and coronal planes\n",
        "        z_mid = data.shape[2] // 2\n",
        "        y_mid = data.shape[1] // 2\n",
        "        x_mid = data.shape[0] // 2\n",
        "\n",
        "        # Plot axial, sagittal, and coronal views\n",
        "        plt.subplot(4, 3, i*3 + 1)\n",
        "        plt.imshow(data[:, :, z_mid], cmap='gray')\n",
        "        plt.title(f\"{mod} - Axial\")\n",
        "        plt.axis('off')\n",
        "\n",
        "        plt.subplot(4, 3, i*3 + 2)\n",
        "        plt.imshow(data[:, y_mid, :], cmap='gray')\n",
        "        plt.title(f\"{mod} - Sagittal\")\n",
        "        plt.axis('off')\n",
        "\n",
        "        plt.subplot(4, 3, i*3 + 3)\n",
        "        plt.imshow(data[x_mid, :, :], cmap='gray')\n",
        "        plt.title(f\"{mod} - Coronal\")\n",
        "        plt.axis('off')\n",
        "\n",
        "    plt.suptitle(f\"Subject: {subject_id}\", fontsize=16)\n",
        "    plt.tight_layout()\n",
        "    plt.subplots_adjust(top=0.95)\n",
        "\n",
        "    # ✅ Fix: Save inside Google Drive directory\n",
        "    save_path = os.path.join(save_dir, f\"{subject_id}_visualization.png\")\n",
        "    plt.savefig(save_path)\n",
        "    plt.close()\n",
        "\n",
        "    return save_path  # Return path of the saved visualization\n",
        "\n",
        "# ✅ Fix: Reduce sample size to 10 (100 is too many for testing)\n",
        "sample_subjects = random.sample(subjects, 10)\n",
        "for subject in sample_subjects:\n",
        "    save_path = visualize_subject(subject)\n",
        "    print(f\"Saved visualization to: {save_path}\")\n"
      ]
    },
    {
      "cell_type": "markdown",
      "metadata": {
        "id": "4l3pV1HQHvO9"
      },
      "source": [
        "## Histogram Matching Analysis"
      ]
    },
    {
      "cell_type": "code",
      "execution_count": null,
      "metadata": {
        "id": "zvXJWAW0HvO9",
        "colab": {
          "base_uri": "https://localhost:8080/"
        },
        "outputId": "d21b4275-832b-4227-befd-3db4e612a622"
      },
      "outputs": [
        {
          "output_type": "stream",
          "name": "stdout",
          "text": [
            "Histogram comparison saved at: /content/drive/MyDrive/CSCI566/visualizations/intensity_histogram_comparison.png\n"
          ]
        }
      ],
      "source": [
        "def compare_intensity_histograms(subjects):\n",
        "    plt.figure(figsize=(15, 10))\n",
        "\n",
        "    for i, mod in enumerate(modalities):\n",
        "        plt.subplot(2, 2, i+1)\n",
        "\n",
        "        for j, subject in enumerate(subjects[:5]):  # Limit to 5 subjects for clarity\n",
        "            # ✅ Fix: Search for .nii files directly inside the subject folder\n",
        "            nii_files = glob(os.path.join(subject, f\"*{mod}.nii\"))\n",
        "            if not nii_files:\n",
        "                print(f\"Warning: No NIfTI file found for modality '{mod}' in {subject}\")\n",
        "                continue  # Skip this subject for this modality\n",
        "\n",
        "            nii_file = nii_files[0]  # Use the first matching file\n",
        "            img = nib.load(nii_file)\n",
        "            data = img.get_fdata()\n",
        "\n",
        "            # Plot histogram\n",
        "            hist, bins = np.histogram(data.flatten(), bins=100, density=True)\n",
        "            plt.plot(bins[:-1], hist, label=f\"Subject {j+1}\")\n",
        "\n",
        "        plt.title(f\"Intensity Histogram - {mod}\")\n",
        "        plt.legend()\n",
        "\n",
        "    plt.tight_layout()\n",
        "\n",
        "    # ✅ Fix: Save to Google Drive instead of an unsupported location\n",
        "    save_path = \"/content/drive/MyDrive/CSCI566/visualizations/intensity_histogram_comparison.png\"\n",
        "    os.makedirs(os.path.dirname(save_path), exist_ok=True)  # Ensure folder exists\n",
        "    plt.savefig(save_path)\n",
        "    plt.close()\n",
        "\n",
        "    print(f\"Histogram comparison saved at: {save_path}\")\n",
        "\n",
        "# ✅ Fix: Use a small test set first\n",
        "compare_intensity_histograms(sample_subjects[:5])  # Compare first 5 subjects\n"
      ]
    },
    {
      "cell_type": "code",
      "execution_count": null,
      "metadata": {
        "id": "rxV5pBu1HvO9",
        "outputId": "c9d3c8e4-7dd7-455a-ddc2-41b3ef96e6b4",
        "colab": {
          "base_uri": "https://localhost:8080/"
        }
      },
      "outputs": [
        {
          "output_type": "stream",
          "name": "stdout",
          "text": [
            "Saved intensity histogram to: /content/drive/MyDrive/CSCI566/visualizations/intensity_histogram_comparison_3.png\n"
          ]
        }
      ],
      "source": [
        "def compare_intensity_histograms(subjects, save_dir=\"/content/drive/MyDrive/CSCI566/visualizations/\",\n",
        "                                figsize=(15, 10), num_subjects=100, num_bins=100,\n",
        "                                x_range=None, y_range=None):\n",
        "    \"\"\"\n",
        "    Compare intensity histograms across different subjects and modalities.\n",
        "\n",
        "    Parameters:\n",
        "    -----------\n",
        "    subjects : list\n",
        "        List of subject paths\n",
        "    save_dir : str\n",
        "        Directory to save the visualization\n",
        "    figsize : tuple\n",
        "        Figure size (width, height) in inches\n",
        "    num_subjects : int\n",
        "        Number of subjects to include in comparison\n",
        "    num_bins : int\n",
        "        Number of bins for histogram\n",
        "    x_range : tuple or None\n",
        "        Optional (min, max) to limit x-axis range\n",
        "    y_range : tuple or None\n",
        "        Optional (min, max) to limit y-axis range\n",
        "    \"\"\"\n",
        "    # ✅ Fix: Save inside Google Drive\n",
        "    os.makedirs(save_dir, exist_ok=True)\n",
        "\n",
        "    plt.figure(figsize=figsize)\n",
        "\n",
        "    for i, mod in enumerate(modalities):\n",
        "        plt.subplot(2, 2, i+1)\n",
        "\n",
        "        for j, subject in enumerate(subjects[:num_subjects]):\n",
        "            # ✅ Fix: Search directly inside subject folder\n",
        "            nii_files = glob(os.path.join(subject, f\"*{mod}.nii\"))\n",
        "            if not nii_files:\n",
        "                print(f\"Warning: No NIfTI file found for modality '{mod}' in {subject}\")\n",
        "                continue  # Skip to the next subject\n",
        "\n",
        "            nii_file = nii_files[0]  # Use the first matching file\n",
        "            subject_id = os.path.basename(subject)\n",
        "\n",
        "            img = nib.load(nii_file)\n",
        "            data = img.get_fdata()\n",
        "\n",
        "            # Plot histogram\n",
        "            hist, bins = np.histogram(data.flatten(), bins=num_bins, density=True)\n",
        "            plt.plot(bins[:-1], hist, label=f\"{subject_id}\")\n",
        "\n",
        "        plt.title(f\"Intensity Histogram - {mod}\")\n",
        "\n",
        "        # Set axis ranges if specified\n",
        "        if x_range:\n",
        "            plt.xlim(x_range)\n",
        "        if y_range:\n",
        "            plt.ylim(y_range)\n",
        "\n",
        "        plt.xlabel(\"Intensity\")\n",
        "        plt.ylabel(\"Frequency (density)\")\n",
        "        plt.legend(fontsize='small')\n",
        "\n",
        "    plt.tight_layout()\n",
        "\n",
        "    # ✅ Fix: Save inside Google Drive instead of `/mnt/gpussd2/`\n",
        "    save_path = os.path.join(save_dir, \"intensity_histogram_comparison_3.png\")\n",
        "    plt.savefig(save_path, dpi=300)\n",
        "    plt.close()\n",
        "\n",
        "    print(f\"Saved intensity histogram to: {save_path}\")\n",
        "    return save_path\n",
        "\n",
        "# ✅ Fix: Use fewer subjects for clarity\n",
        "save_path = compare_intensity_histograms(\n",
        "    sample_subjects,\n",
        "    figsize=(18, 12),\n",
        "    num_subjects=3,  # Compare fewer subjects for clarity\n",
        "    num_bins=150,    # Finer histogram bins\n",
        "    x_range=(0, 2000)  # Focus on relevant intensity range\n",
        ")"
      ]
    },
    {
      "cell_type": "markdown",
      "metadata": {
        "id": "grs0kwAVHvO9"
      },
      "source": [
        "## Advanced Analysis - Brain Volume Statistics"
      ]
    },
    {
      "cell_type": "code",
      "execution_count": null,
      "metadata": {
        "id": "E2OURda2HvO9",
        "outputId": "e27126de-06c7-4f13-984f-b68fe42422c4",
        "colab": {
          "base_uri": "https://localhost:8080/"
        }
      },
      "outputs": [
        {
          "output_type": "stream",
          "name": "stderr",
          "text": [
            "100%|██████████| 20/20 [01:24<00:00,  4.21s/it]\n"
          ]
        },
        {
          "output_type": "stream",
          "name": "stdout",
          "text": [
            "Brain volume distribution plot saved at: /content/drive/MyDrive/CSCI566/visualizations/brain_volume_distribution.png\n"
          ]
        }
      ],
      "source": [
        "def analyze_brain_volumes(subjects):\n",
        "    volumes = {mod: [] for mod in modalities}\n",
        "    subject_ids = []\n",
        "\n",
        "    for subject in tqdm(subjects):\n",
        "        subject_id = os.path.basename(subject)\n",
        "        subject_ids.append(subject_id)\n",
        "\n",
        "        for mod in modalities:\n",
        "            # ✅ Search directly inside the subject folder\n",
        "            nii_files = glob(os.path.join(subject, f\"*{mod}.nii\"))\n",
        "            if not nii_files:\n",
        "                print(f\"Warning: No NIfTI file found for modality '{mod}' in {subject}\")\n",
        "                volumes[mod].append(np.nan)  # Fill missing with NaN\n",
        "                continue\n",
        "\n",
        "            nii_file = nii_files[0]\n",
        "            img = nib.load(nii_file)\n",
        "            data = img.get_fdata()\n",
        "\n",
        "            # ✅ Apply a simple threshold to separate brain from background\n",
        "            threshold = np.mean(data) * 0.1\n",
        "            brain_mask = data > threshold\n",
        "\n",
        "            # ✅ Calculate volume (considering voxel spacing)\n",
        "            voxel_volume = np.prod(img.header.get_zooms())  # mm³ per voxel\n",
        "            brain_volume = np.sum(brain_mask) * voxel_volume\n",
        "            volumes[mod].append(brain_volume)\n",
        "\n",
        "    # ✅ Create DataFrame\n",
        "    df = pd.DataFrame({\n",
        "        'subject_id': subject_ids,\n",
        "        **{f\"{mod}_volume\": volumes[mod] for mod in modalities}\n",
        "    })\n",
        "\n",
        "    return df\n",
        "\n",
        "# ✅ Analyze on a small subset\n",
        "volume_df = analyze_brain_volumes(subjects[:20])\n",
        "\n",
        "# ✅ Save plot to Google Drive\n",
        "save_path = \"/content/drive/MyDrive/CSCI566/visualizations/brain_volume_distribution.png\"\n",
        "os.makedirs(os.path.dirname(save_path), exist_ok=True)\n",
        "\n",
        "# ✅ Visualize volumes using KDE plots\n",
        "plt.figure(figsize=(8, 6))\n",
        "volume_data = volume_df.melt(id_vars=\"subject_id\", var_name=\"Modality\", value_name=\"Volume\")\n",
        "sns.boxplot(x=\"Modality\", y=\"Volume\", data=volume_data)\n",
        "plt.title(\"Brain Volume Distribution by Modality\")\n",
        "plt.ylabel(\"Volume (mm³)\")\n",
        "plt.xticks(rotation=45)\n",
        "plt.tight_layout()\n",
        "plt.savefig(save_path.replace(\".png\", \"_boxplot.png\"), dpi=300)\n",
        "plt.close()\n",
        "\n",
        "\n",
        "\n",
        "print(f\"Brain volume distribution plot saved at: {save_path}\")\n"
      ]
    },
    {
      "cell_type": "markdown",
      "metadata": {
        "id": "K30jc7KTHvO-"
      },
      "source": [
        "## Checking for Missing or Corrupted Files"
      ]
    },
    {
      "cell_type": "code",
      "execution_count": null,
      "metadata": {
        "id": "fj728IvTHvO-",
        "outputId": "3ca46942-b11c-4f83-faec-9073394f68ec",
        "colab": {
          "base_uri": "https://localhost:8080/"
        }
      },
      "outputs": [
        {
          "output_type": "stream",
          "name": "stderr",
          "text": [
            "100%|██████████| 262/262 [31:00<00:00,  7.10s/it]"
          ]
        },
        {
          "output_type": "stream",
          "name": "stdout",
          "text": [
            "✅ No data integrity issues found!\n"
          ]
        },
        {
          "output_type": "stream",
          "name": "stderr",
          "text": [
            "\n"
          ]
        }
      ],
      "source": [
        "def check_data_integrity(subjects):\n",
        "    issues = []\n",
        "\n",
        "    for subject in tqdm(subjects):\n",
        "        subject_id = os.path.basename(subject)\n",
        "\n",
        "        # ✅ Fix: Check for missing modalities directly inside subject folder\n",
        "        for mod in modalities:\n",
        "            nii_files = glob(os.path.join(subject, f\"*{mod}.nii\"))  # ✅ Look for .nii files directly\n",
        "            if not nii_files:\n",
        "                issues.append(f\"❌ Missing {mod}.nii file for subject {subject_id}\")\n",
        "                continue  # Skip this modality\n",
        "\n",
        "            nii_file = nii_files[0]  # Use the first found file\n",
        "\n",
        "            # ✅ Try loading the file safely\n",
        "            try:\n",
        "                img = nib.load(nii_file)\n",
        "                data = img.get_fdata()\n",
        "\n",
        "                # ✅ Check for NaN values\n",
        "                if np.isnan(data).any():\n",
        "                    issues.append(f\"⚠️ NaN values found in {mod} for subject {subject_id}\")\n",
        "\n",
        "                # ✅ Check for all-zero data (which could indicate a processing error)\n",
        "                if np.all(data == 0):\n",
        "                    issues.append(f\"⚠️ All-zero data in {mod} for subject {subject_id}\")\n",
        "\n",
        "                # ✅ Check if image is empty (no meaningful data)\n",
        "                if data.size == 0:\n",
        "                    issues.append(f\"⚠️ Empty image file detected in {mod} for subject {subject_id}\")\n",
        "\n",
        "            except Exception as e:\n",
        "                issues.append(f\"🚨 Error loading {mod} for subject {subject_id}: {str(e)}\")\n",
        "\n",
        "    return issues\n",
        "\n",
        "# ✅ Run integrity check on all subjects\n",
        "integrity_issues = check_data_integrity(subjects)\n",
        "\n",
        "# ✅ Print results\n",
        "if integrity_issues:\n",
        "    print(f\"\\n🚨 Found {len(integrity_issues)} data integrity issues:\")\n",
        "    for issue in integrity_issues:\n",
        "        print(f\"- {issue}\")\n",
        "else:\n",
        "    print(\"✅ No data integrity issues found!\")\n"
      ]
    },
    {
      "cell_type": "markdown",
      "metadata": {
        "id": "oX6pugGGHvO-"
      },
      "source": [
        "## Report Generation"
      ]
    },
    {
      "cell_type": "code",
      "execution_count": null,
      "metadata": {
        "id": "yFo5Ng3tHvO-",
        "colab": {
          "base_uri": "https://localhost:8080/"
        },
        "outputId": "acc88b60-9824-4acd-c2d3-a54a37cd1a15"
      },
      "outputs": [
        {
          "output_type": "stream",
          "name": "stdout",
          "text": [
            "📄 EDA report saved at: /content/drive/MyDrive/CSCI566/reports/BraTS_2023_EDA_Report.md\n"
          ]
        }
      ],
      "source": [
        "def generate_eda_report(properties, volume_df, integrity_issues):\n",
        "    # ✅ Fix: Save in Google Drive for persistence\n",
        "    save_path = \"/content/drive/MyDrive/CSCI566/reports/BraTS_2023_EDA_Report.md\"\n",
        "    os.makedirs(os.path.dirname(save_path), exist_ok=True)\n",
        "\n",
        "    with open(save_path, \"w\") as f:\n",
        "        f.write(\"# BraTS 2023 Dataset Exploratory Data Analysis\\n\\n\")\n",
        "\n",
        "        # ✅ Dataset Overview\n",
        "        f.write(\"## Dataset Overview\\n\\n\")\n",
        "        f.write(f\"- **Total subjects:** {len(properties['subject_id'])}\\n\")\n",
        "        f.write(f\"- **Modalities:** {', '.join(modalities)}\\n\")\n",
        "\n",
        "        # ✅ Image Properties\n",
        "        f.write(\"\\n## Image Properties\\n\\n\")\n",
        "        unique_shapes = set(str(s) for s in properties['shape'])\n",
        "        f.write(f\"- **Image dimensions:** {', '.join(unique_shapes)}\\n\")\n",
        "\n",
        "        # ✅ Intensity Statistics\n",
        "        f.write(\"\\n## Intensity Statistics\\n\\n\")\n",
        "        f.write(\"| Modality | Min | Max | Mean | Std |\\n\")\n",
        "        f.write(\"|----------|-----|-----|------|-----|\\n\")\n",
        "        for mod in modalities:\n",
        "            min_val = np.min(properties['min_intensity'][mod])  # ✅ Use min(), not mean()\n",
        "            max_val = np.max(properties['max_intensity'][mod])  # ✅ Use max()\n",
        "            mean_val = np.mean(properties['mean_intensity'][mod])\n",
        "            std_val = np.std(properties['std_intensity'][mod])\n",
        "            f.write(f\"| {mod} | {min_val:.2f} | {max_val:.2f} | {mean_val:.2f} | {std_val:.2f} |\\n\")\n",
        "\n",
        "        # ✅ Brain Volume Statistics\n",
        "        f.write(\"\\n## Brain Volume Statistics\\n\\n\")\n",
        "        f.write(\"| Modality | Min Volume (mm³) | Max Volume (mm³) | Mean Volume (mm³) | Std Volume (mm³) |\\n\")\n",
        "        f.write(\"|----------|------------------|------------------|--------------------|------------------|\\n\")\n",
        "        for mod in modalities:\n",
        "            vol_col = f\"{mod}_volume\"\n",
        "            if vol_col in volume_df.columns:\n",
        "                min_vol = volume_df[vol_col].dropna().min()  # ✅ Drop NaNs before computation\n",
        "                max_vol = volume_df[vol_col].dropna().max()\n",
        "                mean_vol = volume_df[vol_col].dropna().mean()\n",
        "                std_vol = volume_df[vol_col].dropna().std()\n",
        "                f.write(f\"| {mod} | {min_vol:.2f} | {max_vol:.2f} | {mean_vol:.2f} | {std_vol:.2f} |\\n\")\n",
        "\n",
        "        # ✅ Data Integrity Issues\n",
        "        f.write(\"\\n## Data Integrity\\n\\n\")\n",
        "        if integrity_issues:\n",
        "            f.write(f\"⚠️ **Found {len(integrity_issues)} issues:**\\n\\n\")\n",
        "            for issue in integrity_issues:\n",
        "                f.write(f\"- {issue}\\n\")\n",
        "        else:\n",
        "            f.write(\"✅ No data integrity issues found.\\n\")\n",
        "\n",
        "        # ✅ Visualization References\n",
        "        f.write(\"\\n## Visualizations\\n\\n\")\n",
        "        f.write(\"- 🖼️ See `intensity_distributions.png` for intensity distributions.\\n\")\n",
        "        f.write(\"- 📏 See `dimension_distribution.png` for image dimension distribution.\\n\")\n",
        "        f.write(\"- 📊 See `intensity_histogram_comparison.png` for intensity histogram comparison.\\n\")\n",
        "        f.write(\"- 🧠 See `brain_volume_distribution.png` for brain volume distribution.\\n\")\n",
        "        f.write(\"- 🔍 Individual subject visualizations saved as `<subject_id>_visualization.png`\\n\")\n",
        "\n",
        "    # ✅ Print confirmation\n",
        "    print(f\"📄 EDA report saved at: {save_path}\")\n",
        "\n",
        "# ✅ Generate the report\n",
        "generate_eda_report(properties, volume_df, integrity_issues)\n"
      ]
    },
    {
      "cell_type": "code",
      "execution_count": null,
      "metadata": {
        "id": "jtnGn9-PHvO_"
      },
      "outputs": [],
      "source": []
    }
  ],
  "metadata": {
    "kernelspec": {
      "display_name": "dev",
      "language": "python",
      "name": "python3"
    },
    "language_info": {
      "codemirror_mode": {
        "name": "ipython",
        "version": 3
      },
      "file_extension": ".py",
      "mimetype": "text/x-python",
      "name": "python",
      "nbconvert_exporter": "python",
      "pygments_lexer": "ipython3",
      "version": "3.12.3"
    },
    "colab": {
      "provenance": [],
      "include_colab_link": true
    }
  },
  "nbformat": 4,
  "nbformat_minor": 0
}